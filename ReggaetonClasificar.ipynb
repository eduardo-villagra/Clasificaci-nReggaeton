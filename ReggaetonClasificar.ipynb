{
 "cells": [
  {
   "cell_type": "markdown",
   "metadata": {},
   "source": [
    "### Librerías "
   ]
  },
  {
   "cell_type": "code",
   "execution_count": 403,
   "metadata": {},
   "outputs": [],
   "source": [
    "import pandas as pd\n",
    "import numpy as np\n",
    "\n",
    "# Gráficos \n",
    "import seaborn as sns\n",
    "import matplotlib.pyplot as plt\n",
    "\n",
    "# Procesamiento\n",
    "from sklearn.preprocessing import LabelEncoder\n",
    "from sklearn.model_selection import train_test_split, cross_val_score, GridSearchCV\n",
    "from sklearn.feature_selection import SelectKBest, chi2, f_classif\n",
    "from sklearn.preprocessing import StandardScaler\n",
    "from sklearn.ensemble import VotingClassifier\n",
    "from sklearn import model_selection\n",
    "from sklearn.utils import resample\n",
    "from sklearn.pipeline import Pipeline\n",
    "\n",
    "# Machine Learning\n",
    "from sklearn.neighbors import KNeighborsClassifier\n",
    "from sklearn.linear_model import LogisticRegression\n",
    "from sklearn.ensemble import RandomForestClassifier\n",
    "from sklearn.svm import SVC\n",
    "from xgboost import XGBClassifier\n",
    "from sklearn.ensemble import GradientBoostingClassifier\n",
    "from sklearn.ensemble import ExtraTreesClassifier\n",
    "from sklearn.ensemble import AdaBoostClassifier\n",
    "from sklearn.gaussian_process import GaussianProcessClassifier\n",
    "from sklearn.naive_bayes import GaussianNB\n",
    "from sklearn.ensemble import BaggingClassifier\n",
    "from sklearn.ensemble import VotingClassifier\n",
    "\n",
    "# Metricas \n",
    "from sklearn.metrics import accuracy_score, confusion_matrix, f1_score, make_scorer, roc_auc_score, classification_report,cohen_kappa_score ,roc_curve,jaccard_similarity_score\n",
    "\n",
    "# Otros\n",
    "import sys\n",
    "import warnings\n",
    "\n",
    "if not sys.warnoptions:\n",
    "    warnings.simplefilter(\"ignore\")"
   ]
  },
  {
   "cell_type": "markdown",
   "metadata": {},
   "source": [
    "### Data"
   ]
  },
  {
   "cell_type": "code",
   "execution_count": 404,
   "metadata": {},
   "outputs": [],
   "source": [
    "data_NoReggaeton = pd.read_csv('data/data_todotipo.csv')\n",
    "data_Reggaeton = pd.read_csv('data/data_reggaeton.csv')\n",
    "test = pd.read_csv('data/data_test.csv')\n",
    "\n",
    "data_Reggaeton['target'] = 1 \n",
    "data_NoReggaeton['target'] = 0 \n"
   ]
  },
  {
   "cell_type": "markdown",
   "metadata": {},
   "source": [
    "### Análisis descriptivo inicial data_NoReggaeton\n",
    "\n",
    "Realizamos un análisis descriptivo muy básico para entender la estrucutra de la data "
   ]
  },
  {
   "cell_type": "code",
   "execution_count": 405,
   "metadata": {},
   "outputs": [
    {
     "data": {
      "text/html": [
       "<div>\n",
       "<style scoped>\n",
       "    .dataframe tbody tr th:only-of-type {\n",
       "        vertical-align: middle;\n",
       "    }\n",
       "\n",
       "    .dataframe tbody tr th {\n",
       "        vertical-align: top;\n",
       "    }\n",
       "\n",
       "    .dataframe thead th {\n",
       "        text-align: right;\n",
       "    }\n",
       "</style>\n",
       "<table border=\"1\" class=\"dataframe\">\n",
       "  <thead>\n",
       "    <tr style=\"text-align: right;\">\n",
       "      <th></th>\n",
       "      <th>Unnamed: 0</th>\n",
       "      <th>popularity</th>\n",
       "      <th>danceability</th>\n",
       "      <th>energy</th>\n",
       "      <th>key</th>\n",
       "      <th>loudness</th>\n",
       "      <th>mode</th>\n",
       "      <th>speechiness</th>\n",
       "      <th>acousticness</th>\n",
       "      <th>instrumentalness</th>\n",
       "      <th>liveness</th>\n",
       "      <th>valence</th>\n",
       "      <th>tempo</th>\n",
       "      <th>duration</th>\n",
       "      <th>time_signature</th>\n",
       "      <th>id_new</th>\n",
       "      <th>target</th>\n",
       "    </tr>\n",
       "  </thead>\n",
       "  <tbody>\n",
       "    <tr>\n",
       "      <th>0</th>\n",
       "      <td>1</td>\n",
       "      <td>68.0</td>\n",
       "      <td>0.650</td>\n",
       "      <td>0.884</td>\n",
       "      <td>1.0</td>\n",
       "      <td>-3.557</td>\n",
       "      <td>1.0</td>\n",
       "      <td>0.0326</td>\n",
       "      <td>0.048200</td>\n",
       "      <td>0.154000</td>\n",
       "      <td>0.1350</td>\n",
       "      <td>0.377</td>\n",
       "      <td>125.998</td>\n",
       "      <td>200952.0</td>\n",
       "      <td>4.0</td>\n",
       "      <td>71</td>\n",
       "      <td>0</td>\n",
       "    </tr>\n",
       "    <tr>\n",
       "      <th>1</th>\n",
       "      <td>2</td>\n",
       "      <td>59.0</td>\n",
       "      <td>0.588</td>\n",
       "      <td>0.623</td>\n",
       "      <td>11.0</td>\n",
       "      <td>-8.027</td>\n",
       "      <td>0.0</td>\n",
       "      <td>0.0304</td>\n",
       "      <td>0.000288</td>\n",
       "      <td>0.451000</td>\n",
       "      <td>0.1840</td>\n",
       "      <td>0.169</td>\n",
       "      <td>135.993</td>\n",
       "      <td>417188.0</td>\n",
       "      <td>4.0</td>\n",
       "      <td>72</td>\n",
       "      <td>0</td>\n",
       "    </tr>\n",
       "    <tr>\n",
       "      <th>2</th>\n",
       "      <td>3</td>\n",
       "      <td>61.0</td>\n",
       "      <td>0.577</td>\n",
       "      <td>0.880</td>\n",
       "      <td>6.0</td>\n",
       "      <td>-2.916</td>\n",
       "      <td>1.0</td>\n",
       "      <td>0.0357</td>\n",
       "      <td>0.335000</td>\n",
       "      <td>0.896000</td>\n",
       "      <td>0.1430</td>\n",
       "      <td>0.259</td>\n",
       "      <td>127.951</td>\n",
       "      <td>204375.0</td>\n",
       "      <td>4.0</td>\n",
       "      <td>73</td>\n",
       "      <td>0</td>\n",
       "    </tr>\n",
       "    <tr>\n",
       "      <th>3</th>\n",
       "      <td>4</td>\n",
       "      <td>60.0</td>\n",
       "      <td>0.795</td>\n",
       "      <td>0.724</td>\n",
       "      <td>11.0</td>\n",
       "      <td>-6.532</td>\n",
       "      <td>0.0</td>\n",
       "      <td>0.0861</td>\n",
       "      <td>0.404000</td>\n",
       "      <td>0.000002</td>\n",
       "      <td>0.3740</td>\n",
       "      <td>0.445</td>\n",
       "      <td>123.998</td>\n",
       "      <td>219024.0</td>\n",
       "      <td>4.0</td>\n",
       "      <td>74</td>\n",
       "      <td>0</td>\n",
       "    </tr>\n",
       "    <tr>\n",
       "      <th>4</th>\n",
       "      <td>5</td>\n",
       "      <td>62.0</td>\n",
       "      <td>0.557</td>\n",
       "      <td>0.703</td>\n",
       "      <td>8.0</td>\n",
       "      <td>-2.062</td>\n",
       "      <td>0.0</td>\n",
       "      <td>0.0277</td>\n",
       "      <td>0.203000</td>\n",
       "      <td>0.000156</td>\n",
       "      <td>0.0927</td>\n",
       "      <td>0.228</td>\n",
       "      <td>150.037</td>\n",
       "      <td>233600.0</td>\n",
       "      <td>4.0</td>\n",
       "      <td>75</td>\n",
       "      <td>0</td>\n",
       "    </tr>\n",
       "  </tbody>\n",
       "</table>\n",
       "</div>"
      ],
      "text/plain": [
       "   Unnamed: 0  popularity  danceability  energy   key  loudness  mode  \\\n",
       "0           1        68.0         0.650   0.884   1.0    -3.557   1.0   \n",
       "1           2        59.0         0.588   0.623  11.0    -8.027   0.0   \n",
       "2           3        61.0         0.577   0.880   6.0    -2.916   1.0   \n",
       "3           4        60.0         0.795   0.724  11.0    -6.532   0.0   \n",
       "4           5        62.0         0.557   0.703   8.0    -2.062   0.0   \n",
       "\n",
       "   speechiness  acousticness  instrumentalness  liveness  valence    tempo  \\\n",
       "0       0.0326      0.048200          0.154000    0.1350    0.377  125.998   \n",
       "1       0.0304      0.000288          0.451000    0.1840    0.169  135.993   \n",
       "2       0.0357      0.335000          0.896000    0.1430    0.259  127.951   \n",
       "3       0.0861      0.404000          0.000002    0.3740    0.445  123.998   \n",
       "4       0.0277      0.203000          0.000156    0.0927    0.228  150.037   \n",
       "\n",
       "   duration  time_signature  id_new  target  \n",
       "0  200952.0             4.0      71       0  \n",
       "1  417188.0             4.0      72       0  \n",
       "2  204375.0             4.0      73       0  \n",
       "3  219024.0             4.0      74       0  \n",
       "4  233600.0             4.0      75       0  "
      ]
     },
     "execution_count": 405,
     "metadata": {},
     "output_type": "execute_result"
    }
   ],
   "source": [
    "data_NoReggaeton.head()"
   ]
  },
  {
   "cell_type": "markdown",
   "metadata": {},
   "source": [
    "La data que no contiene tiene nulos, por lo que más adelante podremos hacer imputaciones, dado que los nulos no comprenden mas del 5% de la data."
   ]
  },
  {
   "cell_type": "code",
   "execution_count": 406,
   "metadata": {},
   "outputs": [
    {
     "name": "stdout",
     "output_type": "stream",
     "text": [
      "(2230, 17)\n"
     ]
    },
    {
     "data": {
      "text/plain": [
       "Unnamed: 0          0\n",
       "popularity          1\n",
       "danceability        8\n",
       "energy              8\n",
       "key                 8\n",
       "loudness            8\n",
       "mode                8\n",
       "speechiness         8\n",
       "acousticness        8\n",
       "instrumentalness    8\n",
       "liveness            8\n",
       "valence             8\n",
       "tempo               8\n",
       "duration            8\n",
       "time_signature      8\n",
       "id_new              0\n",
       "target              0\n",
       "dtype: int64"
      ]
     },
     "execution_count": 406,
     "metadata": {},
     "output_type": "execute_result"
    }
   ],
   "source": [
    "print(data_NoReggaeton.shape)\n",
    "data_NoReggaeton.isnull().sum()"
   ]
  },
  {
   "cell_type": "code",
   "execution_count": 407,
   "metadata": {},
   "outputs": [
    {
     "data": {
      "text/plain": [
       "Unnamed: 0            int64\n",
       "popularity          float64\n",
       "danceability        float64\n",
       "energy              float64\n",
       "key                 float64\n",
       "loudness            float64\n",
       "mode                float64\n",
       "speechiness         float64\n",
       "acousticness        float64\n",
       "instrumentalness    float64\n",
       "liveness            float64\n",
       "valence             float64\n",
       "tempo               float64\n",
       "duration            float64\n",
       "time_signature      float64\n",
       "id_new                int64\n",
       "target                int64\n",
       "dtype: object"
      ]
     },
     "execution_count": 407,
     "metadata": {},
     "output_type": "execute_result"
    }
   ],
   "source": [
    "data_NoReggaeton.dtypes"
   ]
  },
  {
   "cell_type": "markdown",
   "metadata": {},
   "source": [
    "### Análisis descriptivo inicial data_Reggaeton\n",
    "\n",
    "Ahora hacemos un análisis descriptivo de la data con canciones de reggaeton "
   ]
  },
  {
   "cell_type": "code",
   "execution_count": 408,
   "metadata": {},
   "outputs": [
    {
     "data": {
      "text/html": [
       "<div>\n",
       "<style scoped>\n",
       "    .dataframe tbody tr th:only-of-type {\n",
       "        vertical-align: middle;\n",
       "    }\n",
       "\n",
       "    .dataframe tbody tr th {\n",
       "        vertical-align: top;\n",
       "    }\n",
       "\n",
       "    .dataframe thead th {\n",
       "        text-align: right;\n",
       "    }\n",
       "</style>\n",
       "<table border=\"1\" class=\"dataframe\">\n",
       "  <thead>\n",
       "    <tr style=\"text-align: right;\">\n",
       "      <th></th>\n",
       "      <th>Unnamed: 0</th>\n",
       "      <th>popularity</th>\n",
       "      <th>danceability</th>\n",
       "      <th>energy</th>\n",
       "      <th>key</th>\n",
       "      <th>loudness</th>\n",
       "      <th>mode</th>\n",
       "      <th>speechiness</th>\n",
       "      <th>acousticness</th>\n",
       "      <th>instrumentalness</th>\n",
       "      <th>liveness</th>\n",
       "      <th>valence</th>\n",
       "      <th>tempo</th>\n",
       "      <th>duration</th>\n",
       "      <th>id_new</th>\n",
       "      <th>target</th>\n",
       "    </tr>\n",
       "  </thead>\n",
       "  <tbody>\n",
       "    <tr>\n",
       "      <th>0</th>\n",
       "      <td>1</td>\n",
       "      <td>68</td>\n",
       "      <td>0.826</td>\n",
       "      <td>0.704</td>\n",
       "      <td>9</td>\n",
       "      <td>-7.527</td>\n",
       "      <td>1</td>\n",
       "      <td>0.1170</td>\n",
       "      <td>0.1890</td>\n",
       "      <td>0.000048</td>\n",
       "      <td>0.0617</td>\n",
       "      <td>0.741</td>\n",
       "      <td>94.013</td>\n",
       "      <td>205000</td>\n",
       "      <td>1</td>\n",
       "      <td>1</td>\n",
       "    </tr>\n",
       "    <tr>\n",
       "      <th>1</th>\n",
       "      <td>2</td>\n",
       "      <td>61</td>\n",
       "      <td>0.641</td>\n",
       "      <td>0.693</td>\n",
       "      <td>8</td>\n",
       "      <td>-7.327</td>\n",
       "      <td>1</td>\n",
       "      <td>0.1630</td>\n",
       "      <td>0.0169</td>\n",
       "      <td>0.000000</td>\n",
       "      <td>0.2190</td>\n",
       "      <td>0.899</td>\n",
       "      <td>214.058</td>\n",
       "      <td>184413</td>\n",
       "      <td>2</td>\n",
       "      <td>1</td>\n",
       "    </tr>\n",
       "    <tr>\n",
       "      <th>2</th>\n",
       "      <td>3</td>\n",
       "      <td>67</td>\n",
       "      <td>0.771</td>\n",
       "      <td>0.815</td>\n",
       "      <td>1</td>\n",
       "      <td>-5.423</td>\n",
       "      <td>0</td>\n",
       "      <td>0.0719</td>\n",
       "      <td>0.1610</td>\n",
       "      <td>0.000020</td>\n",
       "      <td>0.1890</td>\n",
       "      <td>0.524</td>\n",
       "      <td>94.016</td>\n",
       "      <td>205520</td>\n",
       "      <td>3</td>\n",
       "      <td>1</td>\n",
       "    </tr>\n",
       "    <tr>\n",
       "      <th>3</th>\n",
       "      <td>4</td>\n",
       "      <td>63</td>\n",
       "      <td>0.743</td>\n",
       "      <td>0.787</td>\n",
       "      <td>1</td>\n",
       "      <td>-5.402</td>\n",
       "      <td>1</td>\n",
       "      <td>0.2620</td>\n",
       "      <td>0.0352</td>\n",
       "      <td>0.000000</td>\n",
       "      <td>0.0732</td>\n",
       "      <td>0.719</td>\n",
       "      <td>192.117</td>\n",
       "      <td>172680</td>\n",
       "      <td>4</td>\n",
       "      <td>1</td>\n",
       "    </tr>\n",
       "    <tr>\n",
       "      <th>4</th>\n",
       "      <td>5</td>\n",
       "      <td>63</td>\n",
       "      <td>0.876</td>\n",
       "      <td>0.692</td>\n",
       "      <td>10</td>\n",
       "      <td>-6.429</td>\n",
       "      <td>1</td>\n",
       "      <td>0.1040</td>\n",
       "      <td>0.1280</td>\n",
       "      <td>0.000000</td>\n",
       "      <td>0.2490</td>\n",
       "      <td>0.757</td>\n",
       "      <td>95.032</td>\n",
       "      <td>227280</td>\n",
       "      <td>5</td>\n",
       "      <td>1</td>\n",
       "    </tr>\n",
       "  </tbody>\n",
       "</table>\n",
       "</div>"
      ],
      "text/plain": [
       "   Unnamed: 0  popularity  danceability  energy  key  loudness  mode  \\\n",
       "0           1          68         0.826   0.704    9    -7.527     1   \n",
       "1           2          61         0.641   0.693    8    -7.327     1   \n",
       "2           3          67         0.771   0.815    1    -5.423     0   \n",
       "3           4          63         0.743   0.787    1    -5.402     1   \n",
       "4           5          63         0.876   0.692   10    -6.429     1   \n",
       "\n",
       "   speechiness  acousticness  instrumentalness  liveness  valence    tempo  \\\n",
       "0       0.1170        0.1890          0.000048    0.0617    0.741   94.013   \n",
       "1       0.1630        0.0169          0.000000    0.2190    0.899  214.058   \n",
       "2       0.0719        0.1610          0.000020    0.1890    0.524   94.016   \n",
       "3       0.2620        0.0352          0.000000    0.0732    0.719  192.117   \n",
       "4       0.1040        0.1280          0.000000    0.2490    0.757   95.032   \n",
       "\n",
       "   duration  id_new  target  \n",
       "0    205000       1       1  \n",
       "1    184413       2       1  \n",
       "2    205520       3       1  \n",
       "3    172680       4       1  \n",
       "4    227280       5       1  "
      ]
     },
     "execution_count": 408,
     "metadata": {},
     "output_type": "execute_result"
    }
   ],
   "source": [
    "data_Reggaeton.head()"
   ]
  },
  {
   "cell_type": "markdown",
   "metadata": {},
   "source": [
    "Podemos apreciar que la dato no presenta nulos "
   ]
  },
  {
   "cell_type": "code",
   "execution_count": 409,
   "metadata": {},
   "outputs": [
    {
     "name": "stdout",
     "output_type": "stream",
     "text": [
      "(70, 16)\n"
     ]
    },
    {
     "data": {
      "text/plain": [
       "Unnamed: 0          0\n",
       "popularity          0\n",
       "danceability        0\n",
       "energy              0\n",
       "key                 0\n",
       "loudness            0\n",
       "mode                0\n",
       "speechiness         0\n",
       "acousticness        0\n",
       "instrumentalness    0\n",
       "liveness            0\n",
       "valence             0\n",
       "tempo               0\n",
       "duration            0\n",
       "id_new              0\n",
       "target              0\n",
       "dtype: int64"
      ]
     },
     "execution_count": 409,
     "metadata": {},
     "output_type": "execute_result"
    }
   ],
   "source": [
    "print(data_Reggaeton.shape)\n",
    "data_Reggaeton.isnull().sum()"
   ]
  },
  {
   "cell_type": "code",
   "execution_count": 410,
   "metadata": {},
   "outputs": [
    {
     "data": {
      "text/plain": [
       "Unnamed: 0            int64\n",
       "popularity          float64\n",
       "danceability        float64\n",
       "energy              float64\n",
       "key                 float64\n",
       "loudness            float64\n",
       "mode                float64\n",
       "speechiness         float64\n",
       "acousticness        float64\n",
       "instrumentalness    float64\n",
       "liveness            float64\n",
       "valence             float64\n",
       "tempo               float64\n",
       "duration            float64\n",
       "time_signature      float64\n",
       "id_new                int64\n",
       "target                int64\n",
       "dtype: object"
      ]
     },
     "execution_count": 410,
     "metadata": {},
     "output_type": "execute_result"
    }
   ],
   "source": [
    "data_NoReggaeton.dtypes"
   ]
  },
  {
   "cell_type": "markdown",
   "metadata": {},
   "source": [
    "### Análisis descriptivo inicial data_NoReggaeton y data_Reggaeton\n",
    "\n",
    "Se concatenan ambas datas"
   ]
  },
  {
   "cell_type": "code",
   "execution_count": 411,
   "metadata": {},
   "outputs": [
    {
     "name": "stdout",
     "output_type": "stream",
     "text": [
      "{'time_signature'}\n"
     ]
    },
    {
     "data": {
      "text/plain": [
       "set()"
      ]
     },
     "execution_count": 411,
     "metadata": {},
     "output_type": "execute_result"
    }
   ],
   "source": [
    "print(set(data_NoReggaeton.columns) - set(data_Reggaeton.columns.values))\n",
    "data_NoReggaeton.drop('time_signature',axis=1, inplace=True)\n",
    "set(data_NoReggaeton.columns) - set(data_Reggaeton.columns.values)"
   ]
  },
  {
   "cell_type": "markdown",
   "metadata": {},
   "source": [
    "Nos damos cuenta que la variable 'time_signature' no se encuentra en da_NoReggaeton, por lo que será eliminada del estudiado, ya que si fuera parte del estudio sería equivalente a un Target. "
   ]
  },
  {
   "cell_type": "code",
   "execution_count": 412,
   "metadata": {},
   "outputs": [
    {
     "name": "stdout",
     "output_type": "stream",
     "text": [
      "(2300, 16)\n"
     ]
    },
    {
     "data": {
      "text/html": [
       "<div>\n",
       "<style scoped>\n",
       "    .dataframe tbody tr th:only-of-type {\n",
       "        vertical-align: middle;\n",
       "    }\n",
       "\n",
       "    .dataframe tbody tr th {\n",
       "        vertical-align: top;\n",
       "    }\n",
       "\n",
       "    .dataframe thead th {\n",
       "        text-align: right;\n",
       "    }\n",
       "</style>\n",
       "<table border=\"1\" class=\"dataframe\">\n",
       "  <thead>\n",
       "    <tr style=\"text-align: right;\">\n",
       "      <th></th>\n",
       "      <th>Unnamed: 0</th>\n",
       "      <th>popularity</th>\n",
       "      <th>danceability</th>\n",
       "      <th>energy</th>\n",
       "      <th>key</th>\n",
       "      <th>loudness</th>\n",
       "      <th>mode</th>\n",
       "      <th>speechiness</th>\n",
       "      <th>acousticness</th>\n",
       "      <th>instrumentalness</th>\n",
       "      <th>liveness</th>\n",
       "      <th>valence</th>\n",
       "      <th>tempo</th>\n",
       "      <th>duration</th>\n",
       "      <th>id_new</th>\n",
       "      <th>target</th>\n",
       "    </tr>\n",
       "  </thead>\n",
       "  <tbody>\n",
       "    <tr>\n",
       "      <th>0</th>\n",
       "      <td>1</td>\n",
       "      <td>68.0</td>\n",
       "      <td>0.650</td>\n",
       "      <td>0.884</td>\n",
       "      <td>1.0</td>\n",
       "      <td>-3.557</td>\n",
       "      <td>1.0</td>\n",
       "      <td>0.0326</td>\n",
       "      <td>0.048200</td>\n",
       "      <td>0.154000</td>\n",
       "      <td>0.1350</td>\n",
       "      <td>0.377</td>\n",
       "      <td>125.998</td>\n",
       "      <td>200952.0</td>\n",
       "      <td>71</td>\n",
       "      <td>0</td>\n",
       "    </tr>\n",
       "    <tr>\n",
       "      <th>1</th>\n",
       "      <td>2</td>\n",
       "      <td>59.0</td>\n",
       "      <td>0.588</td>\n",
       "      <td>0.623</td>\n",
       "      <td>11.0</td>\n",
       "      <td>-8.027</td>\n",
       "      <td>0.0</td>\n",
       "      <td>0.0304</td>\n",
       "      <td>0.000288</td>\n",
       "      <td>0.451000</td>\n",
       "      <td>0.1840</td>\n",
       "      <td>0.169</td>\n",
       "      <td>135.993</td>\n",
       "      <td>417188.0</td>\n",
       "      <td>72</td>\n",
       "      <td>0</td>\n",
       "    </tr>\n",
       "    <tr>\n",
       "      <th>2</th>\n",
       "      <td>3</td>\n",
       "      <td>61.0</td>\n",
       "      <td>0.577</td>\n",
       "      <td>0.880</td>\n",
       "      <td>6.0</td>\n",
       "      <td>-2.916</td>\n",
       "      <td>1.0</td>\n",
       "      <td>0.0357</td>\n",
       "      <td>0.335000</td>\n",
       "      <td>0.896000</td>\n",
       "      <td>0.1430</td>\n",
       "      <td>0.259</td>\n",
       "      <td>127.951</td>\n",
       "      <td>204375.0</td>\n",
       "      <td>73</td>\n",
       "      <td>0</td>\n",
       "    </tr>\n",
       "    <tr>\n",
       "      <th>3</th>\n",
       "      <td>4</td>\n",
       "      <td>60.0</td>\n",
       "      <td>0.795</td>\n",
       "      <td>0.724</td>\n",
       "      <td>11.0</td>\n",
       "      <td>-6.532</td>\n",
       "      <td>0.0</td>\n",
       "      <td>0.0861</td>\n",
       "      <td>0.404000</td>\n",
       "      <td>0.000002</td>\n",
       "      <td>0.3740</td>\n",
       "      <td>0.445</td>\n",
       "      <td>123.998</td>\n",
       "      <td>219024.0</td>\n",
       "      <td>74</td>\n",
       "      <td>0</td>\n",
       "    </tr>\n",
       "    <tr>\n",
       "      <th>4</th>\n",
       "      <td>5</td>\n",
       "      <td>62.0</td>\n",
       "      <td>0.557</td>\n",
       "      <td>0.703</td>\n",
       "      <td>8.0</td>\n",
       "      <td>-2.062</td>\n",
       "      <td>0.0</td>\n",
       "      <td>0.0277</td>\n",
       "      <td>0.203000</td>\n",
       "      <td>0.000156</td>\n",
       "      <td>0.0927</td>\n",
       "      <td>0.228</td>\n",
       "      <td>150.037</td>\n",
       "      <td>233600.0</td>\n",
       "      <td>75</td>\n",
       "      <td>0</td>\n",
       "    </tr>\n",
       "  </tbody>\n",
       "</table>\n",
       "</div>"
      ],
      "text/plain": [
       "   Unnamed: 0  popularity  danceability  energy   key  loudness  mode  \\\n",
       "0           1        68.0         0.650   0.884   1.0    -3.557   1.0   \n",
       "1           2        59.0         0.588   0.623  11.0    -8.027   0.0   \n",
       "2           3        61.0         0.577   0.880   6.0    -2.916   1.0   \n",
       "3           4        60.0         0.795   0.724  11.0    -6.532   0.0   \n",
       "4           5        62.0         0.557   0.703   8.0    -2.062   0.0   \n",
       "\n",
       "   speechiness  acousticness  instrumentalness  liveness  valence    tempo  \\\n",
       "0       0.0326      0.048200          0.154000    0.1350    0.377  125.998   \n",
       "1       0.0304      0.000288          0.451000    0.1840    0.169  135.993   \n",
       "2       0.0357      0.335000          0.896000    0.1430    0.259  127.951   \n",
       "3       0.0861      0.404000          0.000002    0.3740    0.445  123.998   \n",
       "4       0.0277      0.203000          0.000156    0.0927    0.228  150.037   \n",
       "\n",
       "   duration  id_new  target  \n",
       "0  200952.0      71       0  \n",
       "1  417188.0      72       0  \n",
       "2  204375.0      73       0  \n",
       "3  219024.0      74       0  \n",
       "4  233600.0      75       0  "
      ]
     },
     "execution_count": 412,
     "metadata": {},
     "output_type": "execute_result"
    }
   ],
   "source": [
    "data = pd.concat([data_NoReggaeton, data_Reggaeton])\n",
    "print(data.shape)\n",
    "data.head()"
   ]
  },
  {
   "cell_type": "markdown",
   "metadata": {},
   "source": [
    "### Análisis descriptivo gráfico\n",
    "\n",
    "Se aprecia que 'acousticness' y 'energy' estan muy correlacionadas de forma inversa, de igual manera 'acousticness' se correlaciona inversamente 'loudnes'. \n",
    "\n",
    "La varible 'instrumentalness' se correlaciona de forma alta e inversa con 'energy' y 'loudnes', y moderadamente inversa con valence.\n",
    "\n",
    "La variable 'loudnes' se correlaciona de forma alta y posictiva con 'energy'.\n",
    "\n",
    "\n",
    "\n"
   ]
  },
  {
   "cell_type": "code",
   "execution_count": 413,
   "metadata": {},
   "outputs": [
    {
     "data": {
      "image/png": "[encoded data removed]",
      "text/plain": [
       "<Figure size 1008x576 with 2 Axes>"
      ]
     },
     "metadata": {
      "needs_background": "light"
     },
     "output_type": "display_data"
    }
   ],
   "source": [
    "# inicializamos correlación\n",
    "corr = data.drop(['Unnamed: 0','id_new'], axis=1).corr()\n",
    "# Configuramos Mascara\n",
    "mask = np.zeros_like(corr, dtype=np.bool)\n",
    "mask[np.triu_indices_from(mask)] = True\n",
    "# Tamaño figura\n",
    "plt.figure(figsize=(14, 8))\n",
    "# Titulo\n",
    "plt.title('Overall Correlation of Titanic Features', fontsize=18)\n",
    "# Correlation matrix\n",
    "sns.heatmap(corr, mask=mask, annot=False,cmap='RdYlGn', linewidths=0.2, annot_kws={'size':20})\n",
    "plt.show()"
   ]
  },
  {
   "cell_type": "markdown",
   "metadata": {},
   "source": [
    "Se aprecia que el target está desbalanceado, es decir, hay muchas más canciones que no son reggaeton. Es de especial cuidado este desbalanceo para las metricas de los modelos. "
   ]
  },
  {
   "cell_type": "code",
   "execution_count": 414,
   "metadata": {},
   "outputs": [
    {
     "name": "stdout",
     "output_type": "stream",
     "text": [
      "0    2230\n",
      "1      70\n",
      "Name: target, dtype: int64\n"
     ]
    },
    {
     "data": {
      "image/png": "[encoded data removed]",
      "text/plain": [
       "<Figure size 720x360 with 1 Axes>"
      ]
     },
     "metadata": {
      "needs_background": "light"
     },
     "output_type": "display_data"
    }
   ],
   "source": [
    "plt.figure(figsize = (10,5))\n",
    "sns.countplot(x='target', data = data)\n",
    "print(data['target'].value_counts())"
   ]
  },
  {
   "cell_type": "code",
   "execution_count": 415,
   "metadata": {},
   "outputs": [
    {
     "data": {
      "text/plain": [
       "<matplotlib.axes._subplots.AxesSubplot at 0x1a02c627eb8>"
      ]
     },
     "execution_count": 415,
     "metadata": {},
     "output_type": "execute_result"
    },
    {
     "data": {
      "image/png": "[encoded data removed]",
      "text/plain": [
       "<Figure size 1440x720 with 4 Axes>"
      ]
     },
     "metadata": {
      "needs_background": "light"
     },
     "output_type": "display_data"
    }
   ],
   "source": [
    "mask0 = data['target']==0\n",
    "mask1 = data['target']==1\n",
    "\n",
    "plt.figure(figsize=(20,10))\n",
    "\n",
    "plt.subplot(2,2,1)\n",
    "sns.distplot(data['popularity'][mask0].dropna(),kde_kws={\"color\": \"b\", \"lw\": 2, \"label\": \"No Reggaeton\"})\n",
    "sns.distplot(data['popularity'][mask1],kde_kws={\"color\": \"r\", \"lw\": 2, \"label\": \"Reggaeton\"})\n",
    "\n",
    "plt.subplot(2,2,2)\n",
    "sns.distplot(data['danceability'][mask0].dropna(),kde_kws={\"color\": \"b\", \"lw\": 2, \"label\": \"No Reggaeton\"})\n",
    "sns.distplot(data['danceability'][mask1],kde_kws={\"color\": \"r\", \"lw\": 2, \"label\": \"Reggaeton\"})\n",
    "\n",
    "plt.subplot(2,2,3)\n",
    "sns.distplot(data['energy'][mask0].dropna(),kde_kws={\"color\": \"b\", \"lw\": 2, \"label\": \"No Reggaeton\"})\n",
    "sns.distplot(data['energy'][mask1],kde_kws={\"color\": \"r\", \"lw\": 2, \"label\": \"Reggaeton\"})\n",
    "\n",
    "plt.subplot(2,2,4)\n",
    "sns.distplot(data['key'][mask0].dropna(),kde_kws={\"color\": \"b\", \"lw\": 2, \"label\": \"No Reggaeton\"})\n",
    "sns.distplot(data['key'][mask1],kde_kws={\"color\": \"r\", \"lw\": 2, \"label\": \"Reggaeton\"})"
   ]
  },
  {
   "cell_type": "markdown",
   "metadata": {},
   "source": [
    "En las variables 'popularity', 'danceability' y 'energy' se puede ver que las districuciones agrupadas pro el target son considerablemente distintas, esto nos adelanta que serán variables importantes para los modelos, dado que están separando. Por otro lado, la variable 'Key' tiene una distribución similar entre ambos generos de música.  "
   ]
  },
  {
   "cell_type": "code",
   "execution_count": 416,
   "metadata": {},
   "outputs": [
    {
     "data": {
      "text/plain": [
       "<matplotlib.axes._subplots.AxesSubplot at 0x1a02cb97ef0>"
      ]
     },
     "execution_count": 416,
     "metadata": {},
     "output_type": "execute_result"
    },
    {
     "data": {
      "image/png": "[encoded data removed]",
      "text/plain": [
       "<Figure size 1440x720 with 4 Axes>"
      ]
     },
     "metadata": {
      "needs_background": "light"
     },
     "output_type": "display_data"
    }
   ],
   "source": [
    "plt.figure(figsize=(20,10))\n",
    "\n",
    "plt.subplot(2,2,1)\n",
    "sns.distplot(data['loudness'][mask0].dropna(),kde_kws={\"color\": \"b\", \"lw\": 2, \"label\": \"No Reggaeton\"})\n",
    "sns.distplot(data['loudness'][mask1],kde_kws={\"color\": \"r\", \"lw\": 2, \"label\": \"Reggaeton\"})\n",
    "\n",
    "plt.subplot(2,2,2)\n",
    "sns.distplot(data['speechiness'][mask0].dropna(),kde_kws={\"color\": \"b\", \"lw\": 2, \"label\": \"No Reggaeton\"})\n",
    "sns.distplot(data['speechiness'][mask1],kde_kws={\"color\": \"r\", \"lw\": 2, \"label\": \"Reggaeton\"})\n",
    "\n",
    "plt.subplot(2,2,3)\n",
    "sns.distplot(data['acousticness'][mask0].dropna(),kde_kws={\"color\": \"b\", \"lw\": 2, \"label\": \"No Reggaeton\"})\n",
    "sns.distplot(data['acousticness'][mask1],kde_kws={\"color\": \"r\", \"lw\": 2, \"label\": \"Reggaeton\"})\n",
    "\n",
    "plt.subplot(2,2,4)\n",
    "sns.distplot(data['instrumentalness'][mask0].dropna(),kde_kws={\"color\": \"b\", \"lw\": 2, \"label\": \"No Reggaeton\"})\n",
    "sns.distplot(data['instrumentalness'][mask1],kde_kws={\"color\": \"r\", \"lw\": 2, \"label\": \"Reggaeton\"})"
   ]
  },
  {
   "cell_type": "markdown",
   "metadata": {},
   "source": [
    "Las variables 'loudness', 'speechiness' y 'Instrumentalness' tienen ootlier, pues se nota en las colas de las distribución que están muy cargadas hacia los estremos, pero aún así se advierte que són variables que podrían ser buenas predictoras dada la separación entre distribuciones."
   ]
  },
  {
   "cell_type": "code",
   "execution_count": 417,
   "metadata": {},
   "outputs": [
    {
     "data": {
      "text/plain": [
       "<matplotlib.axes._subplots.AxesSubplot at 0x1a02ebd3ef0>"
      ]
     },
     "execution_count": 417,
     "metadata": {},
     "output_type": "execute_result"
    },
    {
     "data": {
      "image/png": "[encoded data removed]",
      "text/plain": [
       "<Figure size 1440x720 with 4 Axes>"
      ]
     },
     "metadata": {
      "needs_background": "light"
     },
     "output_type": "display_data"
    }
   ],
   "source": [
    "plt.figure(figsize=(20,10))\n",
    "\n",
    "plt.subplot(2,2,1)\n",
    "sns.distplot(data['liveness'][mask0].dropna(),kde_kws={\"color\": \"b\", \"lw\": 2, \"label\": \"No Reggaeton\"})\n",
    "sns.distplot(data['liveness'][mask1],kde_kws={\"color\": \"r\", \"lw\": 2, \"label\": \"Reggaeton\"})\n",
    "\n",
    "plt.subplot(2,2,2)\n",
    "sns.distplot(data['valence'][mask0].dropna(),kde_kws={\"color\": \"b\", \"lw\": 2, \"label\": \"No Reggaeton\"})\n",
    "sns.distplot(data['valence'][mask1],kde_kws={\"color\": \"r\", \"lw\": 2, \"label\": \"Reggaeton\"})\n",
    "\n",
    "plt.subplot(2,2,3)\n",
    "sns.distplot(data['tempo'][mask0].dropna(),kde_kws={\"color\": \"b\", \"lw\": 2, \"label\": \"No Reggaeton\"})\n",
    "sns.distplot(data['tempo'][mask1],kde_kws={\"color\": \"r\", \"lw\": 2, \"label\": \"Reggaeton\"})\n",
    "\n",
    "plt.subplot(2,2,4)\n",
    "sns.distplot(data['duration'][mask0].dropna(),kde_kws={\"color\": \"b\", \"lw\": 2, \"label\": \"No Reggaeton\"})\n",
    "sns.distplot(data['duration'][mask1],kde_kws={\"color\": \"r\", \"lw\": 2, \"label\": \"Reggaeton\"})"
   ]
  },
  {
   "cell_type": "markdown",
   "metadata": {},
   "source": [
    "En general podemos ver que existen muchos outliear en la data y que las variables separan bien los grupos. "
   ]
  },
  {
   "cell_type": "code",
   "execution_count": 418,
   "metadata": {},
   "outputs": [
    {
     "name": "stdout",
     "output_type": "stream",
     "text": [
      "1.0    1366\n",
      "0.0     926\n",
      "Name: mode, dtype: int64\n"
     ]
    },
    {
     "data": {
      "image/png": "[encoded data removed]",
      "text/plain": [
       "<Figure size 720x360 with 1 Axes>"
      ]
     },
     "metadata": {
      "needs_background": "light"
     },
     "output_type": "display_data"
    }
   ],
   "source": [
    "plt.figure(figsize = (10,5))\n",
    "sns.countplot(x='mode', data = data)\n",
    "print(data['mode'].value_counts())"
   ]
  },
  {
   "cell_type": "markdown",
   "metadata": {},
   "source": [
    "Los gráficos de caja muestran mucho mejor si existen outlier y en este caso los hay."
   ]
  },
  {
   "cell_type": "code",
   "execution_count": 419,
   "metadata": {},
   "outputs": [
    {
     "data": {
      "text/plain": [
       "<matplotlib.axes._subplots.AxesSubplot at 0x1a02ee34d68>"
      ]
     },
     "execution_count": 419,
     "metadata": {},
     "output_type": "execute_result"
    },
    {
     "data": {
      "image/png": "[encoded data removed]",
      "text/plain": [
       "<Figure size 720x360 with 2 Axes>"
      ]
     },
     "metadata": {
      "needs_background": "light"
     },
     "output_type": "display_data"
    }
   ],
   "source": [
    "plt.figure(figsize = (10,5))\n",
    "\n",
    "plt.subplot(2,1,1)\n",
    "sns.boxplot(x='duration', data = data[mask1])\n",
    "\n",
    "plt.subplot(2,1,2)\n",
    "sns.boxplot(x='duration', data = data[mask0])\n"
   ]
  },
  {
   "cell_type": "code",
   "execution_count": 420,
   "metadata": {},
   "outputs": [
    {
     "data": {
      "text/plain": [
       "<matplotlib.axes._subplots.AxesSubplot at 0x1a02eeb7b38>"
      ]
     },
     "execution_count": 420,
     "metadata": {},
     "output_type": "execute_result"
    },
    {
     "data": {
      "image/png": "[encoded data removed]",
      "text/plain": [
       "<Figure size 720x360 with 2 Axes>"
      ]
     },
     "metadata": {
      "needs_background": "light"
     },
     "output_type": "display_data"
    }
   ],
   "source": [
    "plt.figure(figsize = (10,5))\n",
    "\n",
    "plt.subplot(2,1,1)\n",
    "sns.boxplot(x='instrumentalness', data = data[mask1])\n",
    "\n",
    "plt.subplot(2,1,2)\n",
    "sns.boxplot(x='instrumentalness', data = data[mask0])"
   ]
  },
  {
   "cell_type": "markdown",
   "metadata": {},
   "source": [
    "### Ingeniería de variables\n",
    "\n",
    "Dado que sólo la data que no contiene canciones de reggaeton es la que tiene nulos, imputaremos sólo en ese grupo y además se realizará reemplazando por la mediana de cada variable, dado que la data tiene muchos outlier y esta medida es la idóneo en estos casos. "
   ]
  },
  {
   "cell_type": "code",
   "execution_count": 421,
   "metadata": {},
   "outputs": [
    {
     "data": {
      "text/plain": [
       "Unnamed: 0          0\n",
       "popularity          0\n",
       "danceability        0\n",
       "energy              0\n",
       "key                 0\n",
       "loudness            0\n",
       "mode                0\n",
       "speechiness         0\n",
       "acousticness        0\n",
       "instrumentalness    0\n",
       "liveness            0\n",
       "valence             0\n",
       "tempo               0\n",
       "duration            0\n",
       "id_new              0\n",
       "target              0\n",
       "dtype: int64"
      ]
     },
     "execution_count": 421,
     "metadata": {},
     "output_type": "execute_result"
    }
   ],
   "source": [
    "count_na = data_NoReggaeton.isnull().sum().values\n",
    "nom_var = data_NoReggaeton.isnull().sum().index\n",
    "\n",
    "mask=count_na>=1\n",
    "nom_var_na = nom_var[mask]\n",
    "\n",
    "for nom in nom_var_na:\n",
    "    data[nom] = data.groupby('target')[nom].apply(lambda x: x.fillna(x.median()))\n",
    "    \n",
    "data.isna().sum()\n",
    "\n",
    "\n"
   ]
  },
  {
   "cell_type": "markdown",
   "metadata": {},
   "source": [
    "Dado que la data tiene muchos outlier crearemos nuevas variables que contrendrán los cuartiles de las variables originales, así quitaremos el efecto outlier."
   ]
  },
  {
   "cell_type": "code",
   "execution_count": 422,
   "metadata": {},
   "outputs": [],
   "source": [
    "nom_var = ['popularity','danceability','energy','loudness','speechiness',\n",
    "           'acousticness','liveness','valence','instrumentalness','tempo','duration']\n",
    "\n",
    "nom_var_sufi=['{}_{}'.format(a, 'new') for a in nom_var]\n",
    "\n",
    "for i, j in zip(nom_var, nom_var_sufi):\n",
    "    data[j]=pd.qcut(data[i], 4)\n",
    "    data[j] = LabelEncoder().fit_transform(data[j])\n",
    "     "
   ]
  },
  {
   "cell_type": "code",
   "execution_count": 423,
   "metadata": {},
   "outputs": [
    {
     "data": {
      "text/plain": [
       "Index(['Unnamed: 0', 'popularity', 'danceability', 'energy', 'key', 'loudness',\n",
       "       'mode', 'speechiness', 'acousticness', 'instrumentalness', 'liveness',\n",
       "       'valence', 'tempo', 'duration', 'id_new', 'target', 'popularity_new',\n",
       "       'danceability_new', 'energy_new', 'loudness_new', 'speechiness_new',\n",
       "       'acousticness_new', 'liveness_new', 'valence_new',\n",
       "       'instrumentalness_new', 'tempo_new', 'duration_new'],\n",
       "      dtype='object')"
      ]
     },
     "execution_count": 423,
     "metadata": {},
     "output_type": "execute_result"
    }
   ],
   "source": [
    "data.columns"
   ]
  },
  {
   "cell_type": "markdown",
   "metadata": {},
   "source": [
    "### Machine Learning \n",
    "\n",
    "Para elegir el mejor algoritmo de machine learning echaremos a competir los siguientes modelos: \n",
    "\n",
    "- Random Forest\n",
    "- KNN\n",
    "- Logistic Regression\n",
    "- XGB\n",
    "- Gradient Boosting\n",
    "- SVC\n",
    "- Extra Trees\n",
    "- AdaBoost\n",
    "- GaussianNB\n",
    "- Gaussian Process\n",
    "- Bagging\n",
    "\n",
    "Las etapas del modelado son las siguietes:\n",
    "\n",
    "- 1) Entrenamiento con todas la variables y sólo con los modelos inicializados (se comparan en entrenamiento).\n",
    "- 2) Entrenamiento de modelos inicializados pero con selección de variables. \n",
    "- 3) Se eligen los mejores 4 modelos y se cambian sus hiperparámetros.\n",
    "- 4) Se elijen los mejores dos modelos y se comparan los resultados en test. \n",
    "- 4) Se elige mejor modelo en test para la clasificación final.\n",
    "\n",
    "(La métrica utilizada para comparar los modelos será el índice Kappa,dado que las clases no están balanceadas)\n"
   ]
  },
  {
   "cell_type": "markdown",
   "metadata": {},
   "source": [
    "Generamos las muestras de entrenamiento y test, luego escalamos todas las variables para que todos los modelos esten en igualdad de condiciones."
   ]
  },
  {
   "cell_type": "code",
   "execution_count": 424,
   "metadata": {},
   "outputs": [],
   "source": [
    "X_train, X_test, y_train, y_test = train_test_split(data.drop(['Unnamed: 0','id_new','target'],axis=1), data['target'],test_size=0.3, random_state=42)\n",
    "\n",
    "scaler = StandardScaler()\n",
    "X_train_scaler = scaler.fit_transform(X_train)\n",
    "X_test_scaler = scaler.transform(X_test)"
   ]
  },
  {
   "cell_type": "markdown",
   "metadata": {},
   "source": [
    "#### Paso 1: Se inicializan los modelos "
   ]
  },
  {
   "cell_type": "code",
   "execution_count": 425,
   "metadata": {},
   "outputs": [],
   "source": [
    "ran = RandomForestClassifier(random_state=1)\n",
    "knn = KNeighborsClassifier()\n",
    "log = LogisticRegression()\n",
    "xgb = XGBClassifier()\n",
    "gbc = GradientBoostingClassifier()\n",
    "svc = SVC(random_state=1, probability=True)\n",
    "ext = ExtraTreesClassifier()\n",
    "ada = AdaBoostClassifier()\n",
    "gnb = GaussianNB()\n",
    "gpc = GaussianProcessClassifier()\n",
    "bag = BaggingClassifier()\n",
    "\n",
    "\n",
    "models = [ran, knn, log, xgb, gbc, svc, ext, ada, gnb, gpc, bag]         \n",
    "scores = []\n",
    "scorer = make_scorer(cohen_kappa_score)\n",
    "\n",
    "for mod in models:\n",
    "    mod.fit(X_train_scaler, y_train)\n",
    "    KPP = cross_val_score(mod, X_train_scaler, y_train, scoring = scorer, cv = 10)\n",
    "    scores.append(KPP.mean())"
   ]
  },
  {
   "cell_type": "markdown",
   "metadata": {},
   "source": [
    "Podemos ver que el modelo AdaBoost es el mejor en esta primera etapa con un índice Kappa de 0.54 que nos dice que la predicción es buena."
   ]
  },
  {
   "cell_type": "code",
   "execution_count": 426,
   "metadata": {},
   "outputs": [
    {
     "data": {
      "text/html": [
       "<div>\n",
       "<style scoped>\n",
       "    .dataframe tbody tr th:only-of-type {\n",
       "        vertical-align: middle;\n",
       "    }\n",
       "\n",
       "    .dataframe tbody tr th {\n",
       "        vertical-align: top;\n",
       "    }\n",
       "\n",
       "    .dataframe thead th {\n",
       "        text-align: right;\n",
       "    }\n",
       "</style>\n",
       "<table border=\"1\" class=\"dataframe\">\n",
       "  <thead>\n",
       "    <tr style=\"text-align: right;\">\n",
       "      <th></th>\n",
       "      <th>Model</th>\n",
       "      <th>KPP</th>\n",
       "    </tr>\n",
       "  </thead>\n",
       "  <tbody>\n",
       "    <tr>\n",
       "      <th>0</th>\n",
       "      <td>AdaBoost</td>\n",
       "      <td>0.547825</td>\n",
       "    </tr>\n",
       "    <tr>\n",
       "      <th>1</th>\n",
       "      <td>Gradient Boosting</td>\n",
       "      <td>0.478123</td>\n",
       "    </tr>\n",
       "    <tr>\n",
       "      <th>2</th>\n",
       "      <td>Logistic Regression</td>\n",
       "      <td>0.425504</td>\n",
       "    </tr>\n",
       "    <tr>\n",
       "      <th>3</th>\n",
       "      <td>XGBoost</td>\n",
       "      <td>0.405150</td>\n",
       "    </tr>\n",
       "    <tr>\n",
       "      <th>4</th>\n",
       "      <td>Bagging Classifier</td>\n",
       "      <td>0.382030</td>\n",
       "    </tr>\n",
       "    <tr>\n",
       "      <th>5</th>\n",
       "      <td>Extra Trees</td>\n",
       "      <td>0.353731</td>\n",
       "    </tr>\n",
       "    <tr>\n",
       "      <th>6</th>\n",
       "      <td>Gaussian Process</td>\n",
       "      <td>0.346026</td>\n",
       "    </tr>\n",
       "    <tr>\n",
       "      <th>7</th>\n",
       "      <td>Gaussian Naive Bayes</td>\n",
       "      <td>0.286129</td>\n",
       "    </tr>\n",
       "    <tr>\n",
       "      <th>8</th>\n",
       "      <td>K Nearest Neighbour</td>\n",
       "      <td>0.259021</td>\n",
       "    </tr>\n",
       "    <tr>\n",
       "      <th>9</th>\n",
       "      <td>Random Forest</td>\n",
       "      <td>0.258265</td>\n",
       "    </tr>\n",
       "    <tr>\n",
       "      <th>10</th>\n",
       "      <td>SVC</td>\n",
       "      <td>0.125180</td>\n",
       "    </tr>\n",
       "  </tbody>\n",
       "</table>\n",
       "</div>"
      ],
      "text/plain": [
       "                   Model       KPP\n",
       "0               AdaBoost  0.547825\n",
       "1      Gradient Boosting  0.478123\n",
       "2    Logistic Regression  0.425504\n",
       "3                XGBoost  0.405150\n",
       "4     Bagging Classifier  0.382030\n",
       "5            Extra Trees  0.353731\n",
       "6       Gaussian Process  0.346026\n",
       "7   Gaussian Naive Bayes  0.286129\n",
       "8    K Nearest Neighbour  0.259021\n",
       "9          Random Forest  0.258265\n",
       "10                   SVC  0.125180"
      ]
     },
     "execution_count": 426,
     "metadata": {},
     "output_type": "execute_result"
    }
   ],
   "source": [
    "results = pd.DataFrame({\n",
    "    'Model': ['Random Forest', 'K Nearest Neighbour', 'Logistic Regression', 'XGBoost', 'Gradient Boosting', 'SVC', 'Extra Trees', 'AdaBoost', 'Gaussian Naive Bayes', 'Gaussian Process', 'Bagging Classifier'],\n",
    "    'KPP': scores})\n",
    "\n",
    "result_df = results.sort_values(by='KPP', ascending=False).reset_index(drop=True)\n",
    "result_df.head(11)"
   ]
  },
  {
   "cell_type": "markdown",
   "metadata": {},
   "source": [
    "#### Paso 2: Selección de variables importantes\n",
    "\n",
    "Para seleccionar las varibles más importantes se toman las variables importantes de 5 modelos y se promedian y ordenan de forma descendete, esto deja en las primeras filas las variables más importantes."
   ]
  },
  {
   "cell_type": "code",
   "execution_count": 427,
   "metadata": {},
   "outputs": [
    {
     "data": {
      "text/html": [
       "<div>\n",
       "<style scoped>\n",
       "    .dataframe tbody tr th:only-of-type {\n",
       "        vertical-align: middle;\n",
       "    }\n",
       "\n",
       "    .dataframe tbody tr th {\n",
       "        vertical-align: top;\n",
       "    }\n",
       "\n",
       "    .dataframe thead th {\n",
       "        text-align: right;\n",
       "    }\n",
       "</style>\n",
       "<table border=\"1\" class=\"dataframe\">\n",
       "  <thead>\n",
       "    <tr style=\"text-align: right;\">\n",
       "      <th></th>\n",
       "      <th>Feature</th>\n",
       "      <th>gbc importance</th>\n",
       "      <th>xgb importance</th>\n",
       "      <th>ran importance</th>\n",
       "      <th>ext importance</th>\n",
       "      <th>ada importance</th>\n",
       "      <th>Average</th>\n",
       "    </tr>\n",
       "  </thead>\n",
       "  <tbody>\n",
       "    <tr>\n",
       "      <th>0</th>\n",
       "      <td>tempo</td>\n",
       "      <td>0.253235</td>\n",
       "      <td>0.090038</td>\n",
       "      <td>0.107777</td>\n",
       "      <td>0.073948</td>\n",
       "      <td>0.18</td>\n",
       "      <td>0.141000</td>\n",
       "    </tr>\n",
       "    <tr>\n",
       "      <th>1</th>\n",
       "      <td>danceability</td>\n",
       "      <td>0.188163</td>\n",
       "      <td>0.166851</td>\n",
       "      <td>0.112268</td>\n",
       "      <td>0.045370</td>\n",
       "      <td>0.08</td>\n",
       "      <td>0.118530</td>\n",
       "    </tr>\n",
       "    <tr>\n",
       "      <th>2</th>\n",
       "      <td>energy</td>\n",
       "      <td>0.146757</td>\n",
       "      <td>0.159192</td>\n",
       "      <td>0.052029</td>\n",
       "      <td>0.051715</td>\n",
       "      <td>0.10</td>\n",
       "      <td>0.101939</td>\n",
       "    </tr>\n",
       "    <tr>\n",
       "      <th>3</th>\n",
       "      <td>speechiness</td>\n",
       "      <td>0.100822</td>\n",
       "      <td>0.075593</td>\n",
       "      <td>0.102024</td>\n",
       "      <td>0.051587</td>\n",
       "      <td>0.14</td>\n",
       "      <td>0.094005</td>\n",
       "    </tr>\n",
       "    <tr>\n",
       "      <th>4</th>\n",
       "      <td>instrumentalness</td>\n",
       "      <td>0.069208</td>\n",
       "      <td>0.127824</td>\n",
       "      <td>0.047795</td>\n",
       "      <td>0.038900</td>\n",
       "      <td>0.04</td>\n",
       "      <td>0.064746</td>\n",
       "    </tr>\n",
       "    <tr>\n",
       "      <th>5</th>\n",
       "      <td>duration</td>\n",
       "      <td>0.058317</td>\n",
       "      <td>0.053997</td>\n",
       "      <td>0.041282</td>\n",
       "      <td>0.078413</td>\n",
       "      <td>0.08</td>\n",
       "      <td>0.062402</td>\n",
       "    </tr>\n",
       "    <tr>\n",
       "      <th>6</th>\n",
       "      <td>loudness</td>\n",
       "      <td>0.069555</td>\n",
       "      <td>0.047604</td>\n",
       "      <td>0.047259</td>\n",
       "      <td>0.034568</td>\n",
       "      <td>0.06</td>\n",
       "      <td>0.051797</td>\n",
       "    </tr>\n",
       "    <tr>\n",
       "      <th>7</th>\n",
       "      <td>popularity</td>\n",
       "      <td>0.005225</td>\n",
       "      <td>0.059818</td>\n",
       "      <td>0.050827</td>\n",
       "      <td>0.028708</td>\n",
       "      <td>0.08</td>\n",
       "      <td>0.044915</td>\n",
       "    </tr>\n",
       "    <tr>\n",
       "      <th>8</th>\n",
       "      <td>liveness</td>\n",
       "      <td>0.023293</td>\n",
       "      <td>0.053327</td>\n",
       "      <td>0.054010</td>\n",
       "      <td>0.012961</td>\n",
       "      <td>0.08</td>\n",
       "      <td>0.044718</td>\n",
       "    </tr>\n",
       "    <tr>\n",
       "      <th>9</th>\n",
       "      <td>acousticness</td>\n",
       "      <td>0.017020</td>\n",
       "      <td>0.084930</td>\n",
       "      <td>0.065146</td>\n",
       "      <td>0.035128</td>\n",
       "      <td>0.02</td>\n",
       "      <td>0.044445</td>\n",
       "    </tr>\n",
       "    <tr>\n",
       "      <th>10</th>\n",
       "      <td>valence</td>\n",
       "      <td>0.010677</td>\n",
       "      <td>0.042279</td>\n",
       "      <td>0.046985</td>\n",
       "      <td>0.025127</td>\n",
       "      <td>0.08</td>\n",
       "      <td>0.041014</td>\n",
       "    </tr>\n",
       "    <tr>\n",
       "      <th>11</th>\n",
       "      <td>danceability_new</td>\n",
       "      <td>0.026669</td>\n",
       "      <td>0.000000</td>\n",
       "      <td>0.041591</td>\n",
       "      <td>0.073520</td>\n",
       "      <td>0.00</td>\n",
       "      <td>0.028356</td>\n",
       "    </tr>\n",
       "    <tr>\n",
       "      <th>12</th>\n",
       "      <td>key</td>\n",
       "      <td>0.018752</td>\n",
       "      <td>0.038548</td>\n",
       "      <td>0.010987</td>\n",
       "      <td>0.032685</td>\n",
       "      <td>0.04</td>\n",
       "      <td>0.028194</td>\n",
       "    </tr>\n",
       "    <tr>\n",
       "      <th>13</th>\n",
       "      <td>tempo_new</td>\n",
       "      <td>0.000000</td>\n",
       "      <td>0.000000</td>\n",
       "      <td>0.061431</td>\n",
       "      <td>0.068944</td>\n",
       "      <td>0.00</td>\n",
       "      <td>0.026075</td>\n",
       "    </tr>\n",
       "    <tr>\n",
       "      <th>14</th>\n",
       "      <td>loudness_new</td>\n",
       "      <td>0.000000</td>\n",
       "      <td>0.000000</td>\n",
       "      <td>0.034702</td>\n",
       "      <td>0.039092</td>\n",
       "      <td>0.02</td>\n",
       "      <td>0.018759</td>\n",
       "    </tr>\n",
       "    <tr>\n",
       "      <th>15</th>\n",
       "      <td>instrumentalness_new</td>\n",
       "      <td>0.000922</td>\n",
       "      <td>0.000000</td>\n",
       "      <td>0.039045</td>\n",
       "      <td>0.050215</td>\n",
       "      <td>0.00</td>\n",
       "      <td>0.018036</td>\n",
       "    </tr>\n",
       "    <tr>\n",
       "      <th>16</th>\n",
       "      <td>energy_new</td>\n",
       "      <td>0.002027</td>\n",
       "      <td>0.000000</td>\n",
       "      <td>0.018473</td>\n",
       "      <td>0.058338</td>\n",
       "      <td>0.00</td>\n",
       "      <td>0.015768</td>\n",
       "    </tr>\n",
       "    <tr>\n",
       "      <th>17</th>\n",
       "      <td>popularity_new</td>\n",
       "      <td>0.001243</td>\n",
       "      <td>0.000000</td>\n",
       "      <td>0.018017</td>\n",
       "      <td>0.034999</td>\n",
       "      <td>0.00</td>\n",
       "      <td>0.010852</td>\n",
       "    </tr>\n",
       "    <tr>\n",
       "      <th>18</th>\n",
       "      <td>speechiness_new</td>\n",
       "      <td>0.001010</td>\n",
       "      <td>0.000000</td>\n",
       "      <td>0.005119</td>\n",
       "      <td>0.044595</td>\n",
       "      <td>0.00</td>\n",
       "      <td>0.010145</td>\n",
       "    </tr>\n",
       "    <tr>\n",
       "      <th>19</th>\n",
       "      <td>liveness_new</td>\n",
       "      <td>0.004901</td>\n",
       "      <td>0.000000</td>\n",
       "      <td>0.019831</td>\n",
       "      <td>0.017874</td>\n",
       "      <td>0.00</td>\n",
       "      <td>0.008521</td>\n",
       "    </tr>\n",
       "    <tr>\n",
       "      <th>20</th>\n",
       "      <td>valence_new</td>\n",
       "      <td>0.001991</td>\n",
       "      <td>0.000000</td>\n",
       "      <td>0.009581</td>\n",
       "      <td>0.029306</td>\n",
       "      <td>0.00</td>\n",
       "      <td>0.008176</td>\n",
       "    </tr>\n",
       "    <tr>\n",
       "      <th>21</th>\n",
       "      <td>acousticness_new</td>\n",
       "      <td>0.000000</td>\n",
       "      <td>0.000000</td>\n",
       "      <td>0.000684</td>\n",
       "      <td>0.039862</td>\n",
       "      <td>0.00</td>\n",
       "      <td>0.008109</td>\n",
       "    </tr>\n",
       "    <tr>\n",
       "      <th>22</th>\n",
       "      <td>duration_new</td>\n",
       "      <td>0.000000</td>\n",
       "      <td>0.000000</td>\n",
       "      <td>0.012078</td>\n",
       "      <td>0.019547</td>\n",
       "      <td>0.00</td>\n",
       "      <td>0.006325</td>\n",
       "    </tr>\n",
       "    <tr>\n",
       "      <th>23</th>\n",
       "      <td>mode</td>\n",
       "      <td>0.000213</td>\n",
       "      <td>0.000000</td>\n",
       "      <td>0.001060</td>\n",
       "      <td>0.014598</td>\n",
       "      <td>0.00</td>\n",
       "      <td>0.003174</td>\n",
       "    </tr>\n",
       "  </tbody>\n",
       "</table>\n",
       "</div>"
      ],
      "text/plain": [
       "                 Feature  gbc importance  xgb importance  ran importance  \\\n",
       "0                  tempo        0.253235        0.090038        0.107777   \n",
       "1           danceability        0.188163        0.166851        0.112268   \n",
       "2                 energy        0.146757        0.159192        0.052029   \n",
       "3            speechiness        0.100822        0.075593        0.102024   \n",
       "4       instrumentalness        0.069208        0.127824        0.047795   \n",
       "5               duration        0.058317        0.053997        0.041282   \n",
       "6               loudness        0.069555        0.047604        0.047259   \n",
       "7             popularity        0.005225        0.059818        0.050827   \n",
       "8               liveness        0.023293        0.053327        0.054010   \n",
       "9           acousticness        0.017020        0.084930        0.065146   \n",
       "10               valence        0.010677        0.042279        0.046985   \n",
       "11      danceability_new        0.026669        0.000000        0.041591   \n",
       "12                   key        0.018752        0.038548        0.010987   \n",
       "13             tempo_new        0.000000        0.000000        0.061431   \n",
       "14          loudness_new        0.000000        0.000000        0.034702   \n",
       "15  instrumentalness_new        0.000922        0.000000        0.039045   \n",
       "16            energy_new        0.002027        0.000000        0.018473   \n",
       "17        popularity_new        0.001243        0.000000        0.018017   \n",
       "18       speechiness_new        0.001010        0.000000        0.005119   \n",
       "19          liveness_new        0.004901        0.000000        0.019831   \n",
       "20           valence_new        0.001991        0.000000        0.009581   \n",
       "21      acousticness_new        0.000000        0.000000        0.000684   \n",
       "22          duration_new        0.000000        0.000000        0.012078   \n",
       "23                  mode        0.000213        0.000000        0.001060   \n",
       "\n",
       "    ext importance  ada importance   Average  \n",
       "0         0.073948            0.18  0.141000  \n",
       "1         0.045370            0.08  0.118530  \n",
       "2         0.051715            0.10  0.101939  \n",
       "3         0.051587            0.14  0.094005  \n",
       "4         0.038900            0.04  0.064746  \n",
       "5         0.078413            0.08  0.062402  \n",
       "6         0.034568            0.06  0.051797  \n",
       "7         0.028708            0.08  0.044915  \n",
       "8         0.012961            0.08  0.044718  \n",
       "9         0.035128            0.02  0.044445  \n",
       "10        0.025127            0.08  0.041014  \n",
       "11        0.073520            0.00  0.028356  \n",
       "12        0.032685            0.04  0.028194  \n",
       "13        0.068944            0.00  0.026075  \n",
       "14        0.039092            0.02  0.018759  \n",
       "15        0.050215            0.00  0.018036  \n",
       "16        0.058338            0.00  0.015768  \n",
       "17        0.034999            0.00  0.010852  \n",
       "18        0.044595            0.00  0.010145  \n",
       "19        0.017874            0.00  0.008521  \n",
       "20        0.029306            0.00  0.008176  \n",
       "21        0.039862            0.00  0.008109  \n",
       "22        0.019547            0.00  0.006325  \n",
       "23        0.014598            0.00  0.003174  "
      ]
     },
     "execution_count": 427,
     "metadata": {},
     "output_type": "execute_result"
    }
   ],
   "source": [
    "ada_imp = pd.DataFrame({'Feature':data.drop(['Unnamed: 0','id_new','target'],axis=1).columns, 'ada importance':ada.feature_importances_})\n",
    "gbc_imp = pd.DataFrame({'Feature':data.drop(['Unnamed: 0','id_new','target'],axis=1).columns, 'gbc importance':gbc.feature_importances_})\n",
    "xgb_imp = pd.DataFrame({'Feature':data.drop(['Unnamed: 0','id_new','target'],axis=1).columns, 'xgb importance':xgb.feature_importances_})\n",
    "ran_imp = pd.DataFrame({'Feature':data.drop(['Unnamed: 0','id_new','target'],axis=1).columns, 'ran importance':ran.feature_importances_})\n",
    "ext_imp = pd.DataFrame({'Feature':data.drop(['Unnamed: 0','id_new','target'],axis=1).columns, 'ext importance':ext.feature_importances_})\n",
    "\n",
    "\n",
    "importancia = gbc_imp.merge(xgb_imp, on='Feature').merge(ran_imp, on='Feature').merge(ext_imp, on='Feature').merge(ada_imp, on='Feature')\n",
    "\n",
    "# Calculating average importance per feature\n",
    "importancia['Average'] = importancia.mean(axis=1)\n",
    "importancia = importancia.sort_values(by='Average', ascending=False).reset_index(drop=True)\n",
    "\n",
    "Variables_importantes = importancia['Feature'].head(15).values\n",
    "\n",
    "X_train_select = X_train[Variables_importantes]\n",
    "X_test_select = X_test[Variables_importantes]\n",
    "\n",
    "scaler = StandardScaler()\n",
    "X_train_imp = scaler.fit_transform(X_train_select)\n",
    "X_test_imp = scaler.transform(X_test_select)\n",
    "\n",
    "importancia"
   ]
  },
  {
   "cell_type": "markdown",
   "metadata": {},
   "source": [
    "Seleccionamos 16 variables para introducir nuevamente a los modelos y verificar si las predicciones en entrenamiento mejoraron. Efectivamente los modelos mejoraron, obteniendo 3 modelos con un índice Kappa superior a 0.5. "
   ]
  },
  {
   "cell_type": "code",
   "execution_count": 428,
   "metadata": {},
   "outputs": [
    {
     "data": {
      "text/html": [
       "<div>\n",
       "<style scoped>\n",
       "    .dataframe tbody tr th:only-of-type {\n",
       "        vertical-align: middle;\n",
       "    }\n",
       "\n",
       "    .dataframe tbody tr th {\n",
       "        vertical-align: top;\n",
       "    }\n",
       "\n",
       "    .dataframe thead th {\n",
       "        text-align: right;\n",
       "    }\n",
       "</style>\n",
       "<table border=\"1\" class=\"dataframe\">\n",
       "  <thead>\n",
       "    <tr style=\"text-align: right;\">\n",
       "      <th></th>\n",
       "      <th>Model</th>\n",
       "      <th>Original KPP</th>\n",
       "      <th>KPP with feature selection</th>\n",
       "    </tr>\n",
       "  </thead>\n",
       "  <tbody>\n",
       "    <tr>\n",
       "      <th>0</th>\n",
       "      <td>K Nearest Neighbour</td>\n",
       "      <td>0.259021</td>\n",
       "      <td>0.564549</td>\n",
       "    </tr>\n",
       "    <tr>\n",
       "      <th>1</th>\n",
       "      <td>AdaBoost</td>\n",
       "      <td>0.547825</td>\n",
       "      <td>0.547825</td>\n",
       "    </tr>\n",
       "    <tr>\n",
       "      <th>2</th>\n",
       "      <td>Extra Trees</td>\n",
       "      <td>0.353731</td>\n",
       "      <td>0.504096</td>\n",
       "    </tr>\n",
       "    <tr>\n",
       "      <th>3</th>\n",
       "      <td>Gradient Boosting</td>\n",
       "      <td>0.478123</td>\n",
       "      <td>0.476265</td>\n",
       "    </tr>\n",
       "    <tr>\n",
       "      <th>4</th>\n",
       "      <td>Bagging Classifier</td>\n",
       "      <td>0.382030</td>\n",
       "      <td>0.416553</td>\n",
       "    </tr>\n",
       "    <tr>\n",
       "      <th>5</th>\n",
       "      <td>XGBoost</td>\n",
       "      <td>0.405150</td>\n",
       "      <td>0.409373</td>\n",
       "    </tr>\n",
       "    <tr>\n",
       "      <th>6</th>\n",
       "      <td>Gaussian Process</td>\n",
       "      <td>0.346026</td>\n",
       "      <td>0.396915</td>\n",
       "    </tr>\n",
       "    <tr>\n",
       "      <th>7</th>\n",
       "      <td>Random Forest</td>\n",
       "      <td>0.258265</td>\n",
       "      <td>0.366817</td>\n",
       "    </tr>\n",
       "    <tr>\n",
       "      <th>8</th>\n",
       "      <td>Logistic Regression</td>\n",
       "      <td>0.425504</td>\n",
       "      <td>0.353767</td>\n",
       "    </tr>\n",
       "    <tr>\n",
       "      <th>9</th>\n",
       "      <td>Gaussian Naive Bayes</td>\n",
       "      <td>0.286129</td>\n",
       "      <td>0.251269</td>\n",
       "    </tr>\n",
       "    <tr>\n",
       "      <th>10</th>\n",
       "      <td>SVC</td>\n",
       "      <td>0.125180</td>\n",
       "      <td>0.096830</td>\n",
       "    </tr>\n",
       "  </tbody>\n",
       "</table>\n",
       "</div>"
      ],
      "text/plain": [
       "                   Model  Original KPP  KPP with feature selection\n",
       "0    K Nearest Neighbour      0.259021                    0.564549\n",
       "1               AdaBoost      0.547825                    0.547825\n",
       "2            Extra Trees      0.353731                    0.504096\n",
       "3      Gradient Boosting      0.478123                    0.476265\n",
       "4     Bagging Classifier      0.382030                    0.416553\n",
       "5                XGBoost      0.405150                    0.409373\n",
       "6       Gaussian Process      0.346026                    0.396915\n",
       "7          Random Forest      0.258265                    0.366817\n",
       "8    Logistic Regression      0.425504                    0.353767\n",
       "9   Gaussian Naive Bayes      0.286129                    0.251269\n",
       "10                   SVC      0.125180                    0.096830"
      ]
     },
     "execution_count": 428,
     "metadata": {},
     "output_type": "execute_result"
    }
   ],
   "source": [
    "ran = RandomForestClassifier(random_state=1)\n",
    "knn = KNeighborsClassifier()\n",
    "log = LogisticRegression()\n",
    "xgb = XGBClassifier()\n",
    "gbc = GradientBoostingClassifier()\n",
    "svc = SVC(random_state=1, probability=True)\n",
    "ext = ExtraTreesClassifier()\n",
    "ada = AdaBoostClassifier()\n",
    "gnb = GaussianNB()\n",
    "gpc = GaussianProcessClassifier()\n",
    "bag = BaggingClassifier()\n",
    "\n",
    "\n",
    "models = [ran, knn, log, xgb, gbc, svc, ext, ada, gnb, gpc, bag]         \n",
    "scores_v2 = []\n",
    "\n",
    "\n",
    "for mod in models:\n",
    "    mod.fit(X_train_imp, y_train)\n",
    "    KPP = cross_val_score(mod, X_train_imp, y_train, scoring = scorer, cv = 10)\n",
    "    scores_v2.append(KPP.mean())\n",
    "    \n",
    "results = pd.DataFrame({\n",
    "    'Model': ['Random Forest', 'K Nearest Neighbour', 'Logistic Regression', 'XGBoost', 'Gradient Boosting', 'SVC', 'Extra Trees', 'AdaBoost', 'Gaussian Naive Bayes', 'Gaussian Process', 'Bagging Classifier'],\n",
    "    'Original KPP': scores,\n",
    "    'KPP with feature selection': scores_v2})\n",
    "\n",
    "result_df = results.sort_values(by='KPP with feature selection', ascending=False).reset_index(drop=True)\n",
    "result_df.head(11)"
   ]
  },
  {
   "cell_type": "markdown",
   "metadata": {},
   "source": [
    "#### Etapa 4: Se eligen los cuatro mejores modelos para cambiamos sus hiperparámetros.\n",
    "\n",
    "- Partimos con el modelo con mejor resultado en Kappa K Nearest Neighbour "
   ]
  },
  {
   "cell_type": "code",
   "execution_count": 429,
   "metadata": {},
   "outputs": [
    {
     "name": "stdout",
     "output_type": "stream",
     "text": [
      "Fitting 5 folds for each of 300 candidates, totalling 1500 fits\n"
     ]
    },
    {
     "name": "stderr",
     "output_type": "stream",
     "text": [
      "[Parallel(n_jobs=1)]: Using backend SequentialBackend with 1 concurrent workers.\n"
     ]
    },
    {
     "name": "stdout",
     "output_type": "stream",
     "text": [
      "0.6321968314067555\n",
      "KNeighborsClassifier(algorithm='auto', leaf_size=1, metric='minkowski',\n",
      "           metric_params=None, n_jobs=None, n_neighbors=5, p=2,\n",
      "           weights='distance')\n"
     ]
    },
    {
     "name": "stderr",
     "output_type": "stream",
     "text": [
      "[Parallel(n_jobs=1)]: Done 1500 out of 1500 | elapsed:  5.2min finished\n"
     ]
    }
   ],
   "source": [
    "n_neighbors = [1, 2, 3, 4, 5, 6, 7, 8, 9, 10, 12, 14, 16, 18, 20]\n",
    "algorithm = ['auto']\n",
    "weights = ['uniform', 'distance']\n",
    "leaf_size = [1, 2, 3, 4, 5, 10, 15, 20, 25, 30]\n",
    "\n",
    "hyperparams = {'algorithm': algorithm, 'weights': weights, 'leaf_size': leaf_size, \n",
    "               'n_neighbors': n_neighbors}\n",
    "\n",
    "\n",
    "gd_knn=GridSearchCV(estimator = KNeighborsClassifier(), param_grid = hyperparams, \n",
    "                verbose=True, cv=5, scoring = scorer)\n",
    "\n",
    "gd_knn.fit(X_train_imp, y_train)\n",
    "print(gd_knn.best_score_)\n",
    "print(gd_knn.best_estimator_)"
   ]
  },
  {
   "cell_type": "markdown",
   "metadata": {},
   "source": [
    "- El segundo mejor modelo fue AdaBoost"
   ]
  },
  {
   "cell_type": "code",
   "execution_count": 430,
   "metadata": {},
   "outputs": [
    {
     "name": "stdout",
     "output_type": "stream",
     "text": [
      "Fitting 5 folds for each of 77 candidates, totalling 385 fits\n"
     ]
    },
    {
     "name": "stderr",
     "output_type": "stream",
     "text": [
      "[Parallel(n_jobs=1)]: Using backend SequentialBackend with 1 concurrent workers.\n",
      "[Parallel(n_jobs=1)]: Done 385 out of 385 | elapsed:  2.3min finished\n"
     ]
    },
    {
     "name": "stdout",
     "output_type": "stream",
     "text": [
      "0.6128320006758755\n",
      "AdaBoostClassifier(algorithm='SAMME.R', base_estimator=None, learning_rate=1,\n",
      "          n_estimators=250, random_state=None)\n"
     ]
    }
   ],
   "source": [
    "n_estimators = [10, 25, 50, 75, 100, 125, 150, 200, 250, 300, 350]\n",
    "learning_rate = [0.001, 0.01, 0.1, 0.5, 1, 1.5, 2]\n",
    "\n",
    "hyperparams = {'n_estimators': n_estimators, 'learning_rate': learning_rate}\n",
    "\n",
    "gd_abc=GridSearchCV(estimator = AdaBoostClassifier(), param_grid = hyperparams, \n",
    "                verbose=True, cv=5, scoring = scorer)\n",
    "\n",
    "gd_abc.fit(X_train_imp, y_train)\n",
    "print(gd_abc.best_score_)\n",
    "print(gd_abc.best_estimator_)"
   ]
  },
  {
   "cell_type": "markdown",
   "metadata": {},
   "source": [
    "En tercer lugar tenemos a Extra Trees"
   ]
  },
  {
   "cell_type": "code",
   "execution_count": 431,
   "metadata": {},
   "outputs": [
    {
     "name": "stdout",
     "output_type": "stream",
     "text": [
      "Fitting 5 folds for each of 1000 candidates, totalling 5000 fits\n"
     ]
    },
    {
     "name": "stderr",
     "output_type": "stream",
     "text": [
      "[Parallel(n_jobs=1)]: Using backend SequentialBackend with 1 concurrent workers.\n"
     ]
    },
    {
     "name": "stdout",
     "output_type": "stream",
     "text": [
      "0.5855694445334398\n",
      "ExtraTreesClassifier(bootstrap=False, class_weight=None, criterion='gini',\n",
      "           max_depth=None, max_features=7, max_leaf_nodes=None,\n",
      "           min_impurity_decrease=0.0, min_impurity_split=None,\n",
      "           min_samples_leaf=2, min_samples_split=2,\n",
      "           min_weight_fraction_leaf=0.0, n_estimators=50, n_jobs=None,\n",
      "           oob_score=False, random_state=None, verbose=0, warm_start=False)\n"
     ]
    },
    {
     "name": "stderr",
     "output_type": "stream",
     "text": [
      "[Parallel(n_jobs=1)]: Done 5000 out of 5000 | elapsed:  4.3min finished\n"
     ]
    }
   ],
   "source": [
    "n_estimators = [10, 25, 50, 75, 100]\n",
    "max_depth = [3, None]\n",
    "max_features = [1, 3, 5, 7]\n",
    "min_samples_split = [2, 4, 6, 8, 10]\n",
    "min_samples_leaf = [2, 4, 6, 8, 10]\n",
    "\n",
    "\n",
    "hyperparams = {'n_estimators': n_estimators, 'max_depth': max_depth, 'max_features': max_features,\n",
    "               'min_samples_split': min_samples_split, 'min_samples_leaf': min_samples_leaf}\n",
    "\n",
    "gd_etc=GridSearchCV(estimator = ExtraTreesClassifier(), param_grid = hyperparams, \n",
    "                verbose=True, cv=5, scoring = scorer)\n",
    "\n",
    "gd_etc.fit(X_train_imp, y_train)\n",
    "print(gd_etc.best_score_)\n",
    "print(gd_etc.best_estimator_)"
   ]
  },
  {
   "cell_type": "markdown",
   "metadata": {},
   "source": [
    "- Por último en cuarto lugar tenemos a Gradient Boosting"
   ]
  },
  {
   "cell_type": "code",
   "execution_count": 432,
   "metadata": {},
   "outputs": [
    {
     "name": "stdout",
     "output_type": "stream",
     "text": [
      "Fitting 5 folds for each of 56 candidates, totalling 280 fits\n"
     ]
    },
    {
     "name": "stderr",
     "output_type": "stream",
     "text": [
      "[Parallel(n_jobs=1)]: Using backend SequentialBackend with 1 concurrent workers.\n",
      "[Parallel(n_jobs=1)]: Done 280 out of 280 | elapsed:  4.1min finished\n"
     ]
    },
    {
     "name": "stdout",
     "output_type": "stream",
     "text": [
      "0.5246279087618274\n",
      "GradientBoostingClassifier(criterion='friedman_mse', init=None,\n",
      "              learning_rate=0.1, loss='deviance', max_depth=3,\n",
      "              max_features=None, max_leaf_nodes=None,\n",
      "              min_impurity_decrease=0.0, min_impurity_split=None,\n",
      "              min_samples_leaf=1, min_samples_split=2,\n",
      "              min_weight_fraction_leaf=0.0, n_estimators=750,\n",
      "              n_iter_no_change=None, presort='auto', random_state=None,\n",
      "              subsample=1.0, tol=0.0001, validation_fraction=0.1,\n",
      "              verbose=0, warm_start=False)\n"
     ]
    }
   ],
   "source": [
    "learning_rate = [0.0001, 0.0005, 0.001, 0.005, 0.01, 0.05, 0.1, 0.2]\n",
    "n_estimators = [100, 250, 500, 750, 1000, 1250, 1500]\n",
    "\n",
    "hyperparams = {'learning_rate': learning_rate, 'n_estimators': n_estimators}\n",
    "\n",
    "\n",
    "gd_gbc=GridSearchCV(estimator = GradientBoostingClassifier(), param_grid = hyperparams, \n",
    "                verbose=True, cv=5, scoring = scorer)\n",
    "\n",
    "gd_gbc.fit(X_train_imp, y_train)\n",
    "print(gd_gbc.best_score_)\n",
    "print(gd_gbc.best_estimator_)"
   ]
  },
  {
   "cell_type": "markdown",
   "metadata": {},
   "source": [
    "Inicializamos los dos modelos mejores knn (Kappa 0.63) y adaBoost(Kappa 0.61) con sus respectivos hiperparámetros (mejores).  "
   ]
  },
  {
   "cell_type": "code",
   "execution_count": 436,
   "metadata": {},
   "outputs": [],
   "source": [
    "\n",
    "knn = KNeighborsClassifier(algorithm='auto', leaf_size=1, metric='minkowski',\n",
    "           metric_params=None, n_jobs=None, n_neighbors=5, p=2,\n",
    "           weights='distance')\n",
    "\n",
    "\n",
    "ada = AdaBoostClassifier(algorithm='SAMME.R', base_estimator=None, learning_rate=1,\n",
    "          n_estimators=250, random_state=None)\n",
    "\n",
    "\n",
    "models = [knn,ada]         \n",
    "scorer = make_scorer(cohen_kappa_score)\n",
    "\n",
    "for mod in models:\n",
    "    mod.fit(X_train_imp, y_train)"
   ]
  },
  {
   "cell_type": "markdown",
   "metadata": {},
   "source": [
    "#### Paso 4: Comparamos en test los dos mejores modelos entre los cuatros anterios (K Nearest Neighbour y AdaBoost): \n"
   ]
  },
  {
   "cell_type": "markdown",
   "metadata": {},
   "source": [
    "- K Nearest Neighbour: El modelo tiene una precisión del 99.13%, pero esta metrica no nos sirve dado que la clase está desbalanceada, es por esto que nos enfocaremso en el AUC y el índice Kappa. El AUC e índice Kappa son muy buenos en test con puntajes de 0.93 y 0.8 respectivamente, es curioso que es algo mejor que en entrenamiento. "
   ]
  },
  {
   "cell_type": "code",
   "execution_count": 437,
   "metadata": {},
   "outputs": [
    {
     "name": "stdout",
     "output_type": "stream",
     "text": [
      "Accuracy: 0.9927536231884058\n",
      "              precision    recall  f1-score   support\n",
      "\n",
      "           0       1.00      1.00      1.00       673\n",
      "           1       0.88      0.82      0.85        17\n",
      "\n",
      "   micro avg       0.99      0.99      0.99       690\n",
      "   macro avg       0.94      0.91      0.92       690\n",
      "weighted avg       0.99      0.99      0.99       690\n",
      "\n"
     ]
    },
    {
     "data": {
      "image/png": "[encoded data removed]",
      "text/plain": [
       "<Figure size 432x288 with 1 Axes>"
      ]
     },
     "metadata": {
      "needs_background": "light"
     },
     "output_type": "display_data"
    },
    {
     "name": "stdout",
     "output_type": "stream",
     "text": [
      "AUC: 0.9345336946071148\n",
      "Kappa: 0.8447763880140376\n"
     ]
    },
    {
     "data": {
      "text/plain": [
       "array([[671,   2],\n",
       "       [  3,  14]], dtype=int64)"
      ]
     },
     "execution_count": 437,
     "metadata": {},
     "output_type": "execute_result"
    }
   ],
   "source": [
    "y_pred = knn.predict(X_test_imp)  # Predict the labels of the test set: y_pred\n",
    "\n",
    "# Compute and print metrics\n",
    "print(\"Accuracy: {}\".format(knn.score(X_test_imp, y_test)))\n",
    "print(classification_report(y_test, y_pred))\n",
    "\n",
    "\n",
    "y_pred_prob = knn.predict_proba(X_test_imp)[:,1]\n",
    "\n",
    "fpr, tpr,thresholds = roc_curve(y_test, y_pred_prob)  # Generate ROC curve values: fpr, tpr, thresholds\n",
    "\n",
    "plt.plot([0, 1], [0, 1], 'k--')  # Plot ROC curve\n",
    "plt.plot(fpr, tpr)\n",
    "plt.xlabel('False Positive Rate')\n",
    "plt.ylabel('True Positive Rate')\n",
    "plt.title('ROC Curve')\n",
    "plt.show()\n",
    "\n",
    "print(\"AUC: {}\".format(roc_auc_score(y_test, y_pred_prob)))\n",
    "print(\"Kappa: {}\".format(cohen_kappa_score(y_test, y_pred)))\n",
    "\n",
    "confusion_matrix(y_test, y_pred)"
   ]
  },
  {
   "cell_type": "markdown",
   "metadata": {},
   "source": [
    "- AdaBoost: El modelo tiene una precisión del 99.27%. El AUC e índice Kappa son muy buenos en test con puntajes de 0.93 y 0.84 respectivamente."
   ]
  },
  {
   "cell_type": "code",
   "execution_count": 438,
   "metadata": {},
   "outputs": [
    {
     "name": "stdout",
     "output_type": "stream",
     "text": [
      "Accuracy: 0.9927536231884058\n",
      "              precision    recall  f1-score   support\n",
      "\n",
      "           0       0.99      1.00      1.00       673\n",
      "           1       1.00      0.71      0.83        17\n",
      "\n",
      "   micro avg       0.99      0.99      0.99       690\n",
      "   macro avg       1.00      0.85      0.91       690\n",
      "weighted avg       0.99      0.99      0.99       690\n",
      "\n"
     ]
    },
    {
     "data": {
      "image/png": "[encoded data removed]",
      "text/plain": [
       "<Figure size 432x288 with 1 Axes>"
      ]
     },
     "metadata": {
      "needs_background": "light"
     },
     "output_type": "display_data"
    },
    {
     "name": "stdout",
     "output_type": "stream",
     "text": [
      "AUC: 0.9807709116335984\n",
      "Kappa: 0.8239975512702785\n"
     ]
    },
    {
     "data": {
      "text/plain": [
       "array([[673,   0],\n",
       "       [  5,  12]], dtype=int64)"
      ]
     },
     "execution_count": 438,
     "metadata": {},
     "output_type": "execute_result"
    }
   ],
   "source": [
    "y_pred = ada.predict(X_test_imp)  # Predict the labels of the test set: y_pred\n",
    "\n",
    "# Compute and print metrics\n",
    "print(\"Accuracy: {}\".format(ada.score(X_test_imp, y_test)))\n",
    "print(classification_report(y_test, y_pred))\n",
    "\n",
    "\n",
    "y_pred_prob = ada.predict_proba(X_test_imp)[:,1]\n",
    "\n",
    "fpr, tpr,thresholds = roc_curve(y_test, y_pred_prob)  # Generate ROC curve values: fpr, tpr, thresholds\n",
    "\n",
    "plt.plot([0, 1], [0, 1], 'k--')  # Plot ROC curve\n",
    "plt.plot(fpr, tpr)\n",
    "plt.xlabel('False Positive Rate')\n",
    "plt.ylabel('True Positive Rate')\n",
    "plt.title('ROC Curve')\n",
    "plt.show()\n",
    "\n",
    "print(\"AUC: {}\".format(roc_auc_score(y_test, y_pred_prob)))\n",
    "print(\"Kappa: {}\".format(cohen_kappa_score(y_test, y_pred)))\n",
    "\n",
    "confusion_matrix(y_test, y_pred)"
   ]
  },
  {
   "cell_type": "markdown",
   "metadata": {},
   "source": [
    "Ambos modelos son muy buenos, pero dado que KNN se equivocó menos en clasificar a las canciones de reggaeton lo elegiré como modelo ganador, dado que capta mejor el comportamiento de ese grupo. "
   ]
  },
  {
   "cell_type": "markdown",
   "metadata": {},
   "source": [
    "#### Paso 5: Predicción final muestra de test"
   ]
  },
  {
   "cell_type": "code",
   "execution_count": 439,
   "metadata": {},
   "outputs": [],
   "source": [
    "test = pd.read_csv('data/data_test.csv')\n",
    "test.drop('time_signature',axis=1, inplace=True)\n",
    "\n",
    "test['popularity'] = test['popularity'].astype(float)\n",
    "test['key'] = test['key'].astype(float)\n",
    "test['mode'] = test['mode'].astype(float)\n",
    "test['duration'] = test['duration'].astype(float)\n",
    "\n",
    "#nom_var = ['danceability','loudness','tempo']\n",
    "\n",
    "nom_var = ['popularity','danceability','energy','loudness','speechiness',\n",
    "           'acousticness','liveness','valence','instrumentalness','tempo','duration']\n",
    "\n",
    "nom_var_sufi=['{}_{}'.format(a, 'new') for a in nom_var]\n",
    "\n",
    "for i, j in zip(nom_var, nom_var_sufi):\n",
    "    test[j]=pd.qcut(test[i], 4,  duplicates='drop')\n",
    "    test[j] = LabelEncoder().fit_transform(test[j])\n",
    "\n",
    "\n",
    "#peo=test.drop(['Unnamed: 0','id_new'], axis=1)\n",
    "scaler = StandardScaler()\n",
    "scaler.fit_transform(X_train_select)\n",
    "test_scaler= scaler.transform(test[Variables_importantes])"
   ]
  },
  {
   "cell_type": "code",
   "execution_count": 440,
   "metadata": {},
   "outputs": [],
   "source": [
    "y_pred = knn.predict(test_scaler) "
   ]
  },
  {
   "cell_type": "code",
   "execution_count": 443,
   "metadata": {},
   "outputs": [],
   "source": [
    "test['predic'] = y_pred\n",
    "test.head()\n",
    "test.to_csv('test_predic.csv')"
   ]
  }
 ],
 "metadata": {
  "kernelspec": {
   "display_name": "Python 3",
   "language": "python",
   "name": "python3"
  },
  "language_info": {
   "codemirror_mode": {
    "name": "ipython",
    "version": 3
   },
   "file_extension": ".py",
   "mimetype": "text/x-python",
   "name": "python",
   "nbconvert_exporter": "python",
   "pygments_lexer": "ipython3",
   "version": "3.7.3"
  }
 },
 "nbformat": 4,
 "nbformat_minor": 2
}
